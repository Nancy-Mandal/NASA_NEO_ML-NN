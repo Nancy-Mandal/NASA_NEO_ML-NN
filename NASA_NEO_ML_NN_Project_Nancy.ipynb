{
  "nbformat": 4,
  "nbformat_minor": 0,
  "metadata": {
    "colab": {
      "name": "NASA_NEO_ML/NN_Project_Nancy.ipynb",
      "provenance": []
    },
    "kernelspec": {
      "name": "python3",
      "display_name": "Python 3"
    },
    "language_info": {
      "name": "python"
    }
  },
  "cells": [
    {
      "cell_type": "markdown",
      "source": [
        "\n",
        "#   **NASA - Nearest Earth Objects**\n",
        "\n",
        "\n",
        "---\n",
        "\n",
        "\n",
        "\n",
        "\n",
        "\n",
        "\n",
        "In the outer cosmos, there is an endless number of objects. Moreover, we are closer than we realize to some of them.\n",
        "\n",
        "Even while we may believe that a distance of 70,000 kilometres cannot damage us, but on an astronomical basis, this is a very short distance that can cause substantial natural phenomena to be disturbed. As a result, these objects/asteroids may be dangerous. Hence, it is prudent to be aware of our surroundings and what may pose a threat to us. \n",
        "\n",
        "Thus, for the mentioned purpose this is the **Machine Learning** project using **Neural Networks** which includes different **Classification** techniques to identify which nearest to Earth celestial body can put a threat to us.\n",
        "\n",
        "To achieve this goal, the *dataset which compiles the list of NASA certified asteroids that are classified as the nearest earth object* is used as the input feed for the Python code. \n",
        "\n",
        "\n",
        "\n",
        "---\n",
        "\n",
        "\n"
      ],
      "metadata": {
        "id": "PtJA8ZOsDpis"
      }
    },
    {
      "cell_type": "code",
      "source": [
        "# linear algebra\n",
        "import numpy as np\n",
        "\n",
        "# data processing, CSV file I/O\n",
        "import pandas as pd\n",
        "# Pandas is built on top of another package named Numpy, which provides support for multi-dimensional arrays"
      ],
      "metadata": {
        "id": "aNKL1J3j39_U"
      },
      "execution_count": null,
      "outputs": []
    },
    {
      "cell_type": "markdown",
      "source": [
        "Since, input data files are available in the read-only \"../input/\" directory, running this will list all the files under the input directory."
      ],
      "metadata": {
        "id": "X2hUTXDg3YFC"
      }
    },
    {
      "cell_type": "code",
      "source": [
        "import os\n",
        "for dirname, _, filenames in os.walk(' /kaggle/input'):\n",
        "  for filename in filenames:\n",
        "    print(os.path.join(dirname, filename))"
      ],
      "metadata": {
        "id": "o1lTl1dIxx2G"
      },
      "execution_count": null,
      "outputs": []
    },
    {
      "cell_type": "markdown",
      "source": [
        "**IMPORTING LIBRARIES**\n",
        "\n",
        "---\n",
        "\n",
        "\n",
        "\n"
      ],
      "metadata": {
        "id": "UonOxEvx3VAb"
      }
    },
    {
      "cell_type": "code",
      "source": [
        "# data analysis libraries\n",
        "import numpy as np\n",
        "import pandas as pd\n",
        "\n",
        "# visualization libraries\n",
        "import matplotlib.pyplot as plt          # another form -- from matplotlib import pyplot as plt\n",
        "import seaborn as sns\n",
        "\n",
        "# comment can't be written in the below line\n",
        "%matplotlib inline        \n",
        "# plots/graphs will be displayed just below the cell where your plotting commands are written"
      ],
      "metadata": {
        "id": "NWUvxUNeyMCc"
      },
      "execution_count": null,
      "outputs": []
    },
    {
      "cell_type": "markdown",
      "source": [
        "MODELS\n",
        "\n",
        "\n",
        "---\n",
        "\n",
        "\n",
        "\n"
      ],
      "metadata": {
        "id": "0AWL_-tt34Da"
      }
    },
    {
      "cell_type": "code",
      "source": [
        "from sklearn.model_selection import train_test_split           \n",
        "# sklearn is a free software machine learning library\n",
        "\n",
        "from sklearn.metrics import accuracy_score                     \n",
        "# sklearn.metrics -- measure classification performance"
      ],
      "metadata": {
        "id": "4GK5cJmp3yFU"
      },
      "execution_count": null,
      "outputs": []
    },
    {
      "cell_type": "code",
      "source": [
        "from xgboost import XGBClassifier\n",
        "# XGBoost is the implementation of gradient boosted trees algorithm. Gradient boosting is a supervised learning algorithm, \n",
        "# which attempts to accurately predict a target variable by combining the estimates of a set of simpler, weaker models.\n",
        "# xgboost.XGBClassifier is a scikit-learn API compatible class for classification"
      ],
      "metadata": {
        "id": "9TLQVoVjDngB"
      },
      "execution_count": null,
      "outputs": []
    },
    {
      "cell_type": "code",
      "source": [
        "from sklearn.ensemble import RandomForestClassifier\n",
        "# ensemble method is to combine the predictions of several base estimators built with a given learning algorithm\n",
        "\n",
        "from sklearn.neighbors import KNeighborsClassifier\n",
        "# sklearn.neighbors provides functionality for unsupervised and supervised neighbors-based learning methods\n",
        "\n",
        "from sklearn.naive_bayes import GaussianNB\n",
        "# Naive Bayes methods are supervised learning algorithms based on Bayes’ theorem\n",
        "# with the “naive” assumption of conditional independence between every pair of features given the value of the class variable\n",
        "# GaussianNB implements the Gaussian Naive Bayes algorithm for classification (Normal Distribution)\n",
        "\n",
        "from sklearn.linear_model import SGDClassifier\n",
        "# Linear models are set of methods intended for regression in which the target value is expected to be a linear combination of the features\n",
        "\n",
        "from sklearn.tree import DecisionTreeClassifier\n",
        "# DecisionTreeClassifier is a class capable of performing multi-class classification on a dataset"
      ],
      "metadata": {
        "id": "7-jtbryD3KND"
      },
      "execution_count": null,
      "outputs": []
    },
    {
      "cell_type": "markdown",
      "source": [
        "\n",
        "\n",
        "---\n",
        "\n",
        "\n",
        "Decision Trees (DTs) are a non-parametric supervised learning method used for\n",
        "classification and regression. The goal is to create a model that predicts the value of a target variable by learning simple decision rules inferred from the data features. A tree can be seen as a piecewise constant approximation.\n",
        "\n",
        "---\n",
        "\n",
        "If the classifier used is Decision Tree, then Bootstrap Aggregation (BAGGing) of features approach is called Random Forest.\n",
        "\n",
        "\n",
        "---\n",
        "\n"
      ],
      "metadata": {
        "id": "Ag2yRRUyK7y6"
      }
    },
    {
      "cell_type": "code",
      "source": [
        "import tensorflow as tf\n",
        "# Tensorflow is used to implement machine learning and deep learning concepts\n",
        "\n",
        "from keras.models import Sequential\n",
        "# Keras is an open-source high-level Neural Network library. It supports Convolutional Networks and Recurrent Networks individually \n",
        "# and also their combination. Sequential means we are heaving the stack of layers in the NN and it will accept every layer as 1 element\n",
        "\n",
        "from keras.layers import Dense\n",
        "# Each layer is created using numerous layer_() functions.\n",
        "# These layers are fed with input information, they process this information, do some computation and hence produce the output.\n",
        "# This output of one layer is fed to another layer as its input.\n",
        "# Dense: all the neuron in one layer are connected with every neuron in other layer and each neuron receives input from all the neurons of previous layer.\n",
        "# Dense Layer is used to classify image based on output from convolutional layers."
      ],
      "metadata": {
        "id": "R6LsT01u3PKi"
      },
      "execution_count": null,
      "outputs": []
    },
    {
      "cell_type": "code",
      "source": [
        "# ignore warnings\n",
        "import warnings\n",
        "warnings.filterwarnings('ignore')\n",
        "# “ignore”\tNever display warnings which match"
      ],
      "metadata": {
        "id": "c38v9haRWmhe"
      },
      "execution_count": null,
      "outputs": []
    },
    {
      "cell_type": "code",
      "source": [
        "# read using pandas\n",
        "data = pd.read_csv('neo.csv')\n",
        "data.head(5)"
      ],
      "metadata": {
        "colab": {
          "base_uri": "https://localhost:8080/",
          "height": 250
        },
        "id": "bfUU6wMO_yMv",
        "outputId": "7f15e903-cb0e-4998-92ba-7f7f06e6b59c"
      },
      "execution_count": null,
      "outputs": [
        {
          "output_type": "execute_result",
          "data": {
            "text/plain": [
              "        id                 name  est_diameter_min  est_diameter_max  \\\n",
              "0  2162635  162635 (2000 SS164)          1.198271          2.679415   \n",
              "1  2277475    277475 (2005 WK4)          0.265800          0.594347   \n",
              "2  2512244   512244 (2015 YE18)          0.722030          1.614507   \n",
              "3  3596030          (2012 BV13)          0.096506          0.215794   \n",
              "4  3667127          (2014 GE35)          0.255009          0.570217   \n",
              "\n",
              "   relative_velocity  miss_distance orbiting_body  sentry_object  \\\n",
              "0       13569.249224   5.483974e+07         Earth          False   \n",
              "1       73588.726663   6.143813e+07         Earth          False   \n",
              "2      114258.692129   4.979872e+07         Earth          False   \n",
              "3       24764.303138   2.543497e+07         Earth          False   \n",
              "4       42737.733765   4.627557e+07         Earth          False   \n",
              "\n",
              "   absolute_magnitude  hazardous  \n",
              "0               16.73      False  \n",
              "1               20.00       True  \n",
              "2               17.83      False  \n",
              "3               22.20      False  \n",
              "4               20.09       True  "
            ],
            "text/html": [
              "\n",
              "  <div id=\"df-090f1846-66e0-4418-87fe-40f0d95015dc\">\n",
              "    <div class=\"colab-df-container\">\n",
              "      <div>\n",
              "<style scoped>\n",
              "    .dataframe tbody tr th:only-of-type {\n",
              "        vertical-align: middle;\n",
              "    }\n",
              "\n",
              "    .dataframe tbody tr th {\n",
              "        vertical-align: top;\n",
              "    }\n",
              "\n",
              "    .dataframe thead th {\n",
              "        text-align: right;\n",
              "    }\n",
              "</style>\n",
              "<table border=\"1\" class=\"dataframe\">\n",
              "  <thead>\n",
              "    <tr style=\"text-align: right;\">\n",
              "      <th></th>\n",
              "      <th>id</th>\n",
              "      <th>name</th>\n",
              "      <th>est_diameter_min</th>\n",
              "      <th>est_diameter_max</th>\n",
              "      <th>relative_velocity</th>\n",
              "      <th>miss_distance</th>\n",
              "      <th>orbiting_body</th>\n",
              "      <th>sentry_object</th>\n",
              "      <th>absolute_magnitude</th>\n",
              "      <th>hazardous</th>\n",
              "    </tr>\n",
              "  </thead>\n",
              "  <tbody>\n",
              "    <tr>\n",
              "      <th>0</th>\n",
              "      <td>2162635</td>\n",
              "      <td>162635 (2000 SS164)</td>\n",
              "      <td>1.198271</td>\n",
              "      <td>2.679415</td>\n",
              "      <td>13569.249224</td>\n",
              "      <td>5.483974e+07</td>\n",
              "      <td>Earth</td>\n",
              "      <td>False</td>\n",
              "      <td>16.73</td>\n",
              "      <td>False</td>\n",
              "    </tr>\n",
              "    <tr>\n",
              "      <th>1</th>\n",
              "      <td>2277475</td>\n",
              "      <td>277475 (2005 WK4)</td>\n",
              "      <td>0.265800</td>\n",
              "      <td>0.594347</td>\n",
              "      <td>73588.726663</td>\n",
              "      <td>6.143813e+07</td>\n",
              "      <td>Earth</td>\n",
              "      <td>False</td>\n",
              "      <td>20.00</td>\n",
              "      <td>True</td>\n",
              "    </tr>\n",
              "    <tr>\n",
              "      <th>2</th>\n",
              "      <td>2512244</td>\n",
              "      <td>512244 (2015 YE18)</td>\n",
              "      <td>0.722030</td>\n",
              "      <td>1.614507</td>\n",
              "      <td>114258.692129</td>\n",
              "      <td>4.979872e+07</td>\n",
              "      <td>Earth</td>\n",
              "      <td>False</td>\n",
              "      <td>17.83</td>\n",
              "      <td>False</td>\n",
              "    </tr>\n",
              "    <tr>\n",
              "      <th>3</th>\n",
              "      <td>3596030</td>\n",
              "      <td>(2012 BV13)</td>\n",
              "      <td>0.096506</td>\n",
              "      <td>0.215794</td>\n",
              "      <td>24764.303138</td>\n",
              "      <td>2.543497e+07</td>\n",
              "      <td>Earth</td>\n",
              "      <td>False</td>\n",
              "      <td>22.20</td>\n",
              "      <td>False</td>\n",
              "    </tr>\n",
              "    <tr>\n",
              "      <th>4</th>\n",
              "      <td>3667127</td>\n",
              "      <td>(2014 GE35)</td>\n",
              "      <td>0.255009</td>\n",
              "      <td>0.570217</td>\n",
              "      <td>42737.733765</td>\n",
              "      <td>4.627557e+07</td>\n",
              "      <td>Earth</td>\n",
              "      <td>False</td>\n",
              "      <td>20.09</td>\n",
              "      <td>True</td>\n",
              "    </tr>\n",
              "  </tbody>\n",
              "</table>\n",
              "</div>\n",
              "      <button class=\"colab-df-convert\" onclick=\"convertToInteractive('df-090f1846-66e0-4418-87fe-40f0d95015dc')\"\n",
              "              title=\"Convert this dataframe to an interactive table.\"\n",
              "              style=\"display:none;\">\n",
              "        \n",
              "  <svg xmlns=\"http://www.w3.org/2000/svg\" height=\"24px\"viewBox=\"0 0 24 24\"\n",
              "       width=\"24px\">\n",
              "    <path d=\"M0 0h24v24H0V0z\" fill=\"none\"/>\n",
              "    <path d=\"M18.56 5.44l.94 2.06.94-2.06 2.06-.94-2.06-.94-.94-2.06-.94 2.06-2.06.94zm-11 1L8.5 8.5l.94-2.06 2.06-.94-2.06-.94L8.5 2.5l-.94 2.06-2.06.94zm10 10l.94 2.06.94-2.06 2.06-.94-2.06-.94-.94-2.06-.94 2.06-2.06.94z\"/><path d=\"M17.41 7.96l-1.37-1.37c-.4-.4-.92-.59-1.43-.59-.52 0-1.04.2-1.43.59L10.3 9.45l-7.72 7.72c-.78.78-.78 2.05 0 2.83L4 21.41c.39.39.9.59 1.41.59.51 0 1.02-.2 1.41-.59l7.78-7.78 2.81-2.81c.8-.78.8-2.07 0-2.86zM5.41 20L4 18.59l7.72-7.72 1.47 1.35L5.41 20z\"/>\n",
              "  </svg>\n",
              "      </button>\n",
              "      \n",
              "  <style>\n",
              "    .colab-df-container {\n",
              "      display:flex;\n",
              "      flex-wrap:wrap;\n",
              "      gap: 12px;\n",
              "    }\n",
              "\n",
              "    .colab-df-convert {\n",
              "      background-color: #E8F0FE;\n",
              "      border: none;\n",
              "      border-radius: 50%;\n",
              "      cursor: pointer;\n",
              "      display: none;\n",
              "      fill: #1967D2;\n",
              "      height: 32px;\n",
              "      padding: 0 0 0 0;\n",
              "      width: 32px;\n",
              "    }\n",
              "\n",
              "    .colab-df-convert:hover {\n",
              "      background-color: #E2EBFA;\n",
              "      box-shadow: 0px 1px 2px rgba(60, 64, 67, 0.3), 0px 1px 3px 1px rgba(60, 64, 67, 0.15);\n",
              "      fill: #174EA6;\n",
              "    }\n",
              "\n",
              "    [theme=dark] .colab-df-convert {\n",
              "      background-color: #3B4455;\n",
              "      fill: #D2E3FC;\n",
              "    }\n",
              "\n",
              "    [theme=dark] .colab-df-convert:hover {\n",
              "      background-color: #434B5C;\n",
              "      box-shadow: 0px 1px 3px 1px rgba(0, 0, 0, 0.15);\n",
              "      filter: drop-shadow(0px 1px 2px rgba(0, 0, 0, 0.3));\n",
              "      fill: #FFFFFF;\n",
              "    }\n",
              "  </style>\n",
              "\n",
              "      <script>\n",
              "        const buttonEl =\n",
              "          document.querySelector('#df-090f1846-66e0-4418-87fe-40f0d95015dc button.colab-df-convert');\n",
              "        buttonEl.style.display =\n",
              "          google.colab.kernel.accessAllowed ? 'block' : 'none';\n",
              "\n",
              "        async function convertToInteractive(key) {\n",
              "          const element = document.querySelector('#df-090f1846-66e0-4418-87fe-40f0d95015dc');\n",
              "          const dataTable =\n",
              "            await google.colab.kernel.invokeFunction('convertToInteractive',\n",
              "                                                     [key], {});\n",
              "          if (!dataTable) return;\n",
              "\n",
              "          const docLinkHtml = 'Like what you see? Visit the ' +\n",
              "            '<a target=\"_blank\" href=https://colab.research.google.com/notebooks/data_table.ipynb>data table notebook</a>'\n",
              "            + ' to learn more about interactive tables.';\n",
              "          element.innerHTML = '';\n",
              "          dataTable['output_type'] = 'display_data';\n",
              "          await google.colab.output.renderOutput(dataTable, element);\n",
              "          const docLink = document.createElement('div');\n",
              "          docLink.innerHTML = docLinkHtml;\n",
              "          element.appendChild(docLink);\n",
              "        }\n",
              "      </script>\n",
              "    </div>\n",
              "  </div>\n",
              "  "
            ]
          },
          "metadata": {},
          "execution_count": 87
        }
      ]
    },
    {
      "cell_type": "markdown",
      "source": [
        "\n",
        "\n",
        "---\n",
        "\n",
        "\n",
        "This file incorporates a variety of parameters/features that determine whether or not an asteroid that has already been classified as a near-Earth object is dangerous.\n",
        "\n",
        "\n",
        "---\n",
        "\n"
      ],
      "metadata": {
        "id": "CXHU0B7WLVBe"
      }
    },
    {
      "cell_type": "markdown",
      "source": [
        "\n",
        "\n",
        "---\n",
        "\n",
        "\n",
        "id = Unique Identifier for each Asteroid\n",
        "\n",
        "name = Name given by NASA\n",
        "\n",
        "est_diameter_min = Minimum Estimated Diameter in Kilometres\n",
        "\n",
        "est_diameter_max = Maximum Estimated Diameter in Kilometres\n",
        "\n",
        "relative_velocity = Velocity Relative to Earth\n",
        "\n",
        "miss_distance = Distance in Kilometres missed  \n",
        "\n",
        "orbiting_body = Planet that the asteroid orbits\n",
        "\n",
        "sentry_object = Included in sentry - an automated collision monitoring system\n",
        "\n",
        "absolute_magnitude = Describes intrinsic luminosity\n",
        "\n",
        "hazardous = Boolean feature that shows whether asteroid is harmful or not\n",
        "\n",
        "\n",
        "---\n",
        "\n"
      ],
      "metadata": {
        "id": "R6ngEelFbVmA"
      }
    },
    {
      "cell_type": "markdown",
      "source": [
        "\n",
        "\n",
        "---\n",
        "\n",
        "\n",
        "Sentry is automated impact prediction system operated by the JPL Center for NEO Studies. It continually monitors the most up-to-date asteroid catalog for possibilities of future impact with Earth over the next 100+ years.\n",
        "\n",
        "Miss Distance, I think, is the min possible distance by which the object misses to hit the Earth.\n",
        "\n",
        "For a Solar System object, the absolute magnitude is a measure of the brightness an object would have if it were at 1 au from both the observer and the Sun, and at a phase angle (the angle Sun-object-Earth) of 0 degrees.\n",
        "\n",
        "\n",
        "---\n",
        "\n"
      ],
      "metadata": {
        "id": "T8PwzgLSbFFF"
      }
    },
    {
      "cell_type": "code",
      "source": [
        "data.info()\n",
        "# displays two-dimensional, size-mutable, potentially heterogeneous tabular data "
      ],
      "metadata": {
        "id": "cmNat9qGLoqP",
        "colab": {
          "base_uri": "https://localhost:8080/"
        },
        "outputId": "4d019f10-663e-4b83-bb0e-bcf561706652"
      },
      "execution_count": null,
      "outputs": [
        {
          "output_type": "stream",
          "name": "stdout",
          "text": [
            "<class 'pandas.core.frame.DataFrame'>\n",
            "RangeIndex: 90836 entries, 0 to 90835\n",
            "Data columns (total 10 columns):\n",
            " #   Column              Non-Null Count  Dtype  \n",
            "---  ------              --------------  -----  \n",
            " 0   id                  90836 non-null  int64  \n",
            " 1   name                90836 non-null  object \n",
            " 2   est_diameter_min    90836 non-null  float64\n",
            " 3   est_diameter_max    90836 non-null  float64\n",
            " 4   relative_velocity   90836 non-null  float64\n",
            " 5   miss_distance       90836 non-null  float64\n",
            " 6   orbiting_body       90836 non-null  object \n",
            " 7   sentry_object       90836 non-null  bool   \n",
            " 8   absolute_magnitude  90836 non-null  float64\n",
            " 9   hazardous           90836 non-null  bool   \n",
            "dtypes: bool(2), float64(5), int64(1), object(2)\n",
            "memory usage: 5.7+ MB\n"
          ]
        }
      ]
    },
    {
      "cell_type": "code",
      "source": [
        "data.shape"
      ],
      "metadata": {
        "colab": {
          "base_uri": "https://localhost:8080/"
        },
        "id": "jih8Q-B5FTcH",
        "outputId": "158f779a-1f35-42fa-a6fb-b304adeda100"
      },
      "execution_count": null,
      "outputs": [
        {
          "output_type": "execute_result",
          "data": {
            "text/plain": [
              "(90836, 10)"
            ]
          },
          "metadata": {},
          "execution_count": 89
        }
      ]
    },
    {
      "cell_type": "code",
      "source": [
        "data.isnull().sum()\n",
        "# returns the number of missing values in the data set"
      ],
      "metadata": {
        "colab": {
          "base_uri": "https://localhost:8080/"
        },
        "id": "aCULb-WaFTVG",
        "outputId": "8e18a529-fa19-4fb2-eee3-6965ba5a9cbf"
      },
      "execution_count": null,
      "outputs": [
        {
          "output_type": "execute_result",
          "data": {
            "text/plain": [
              "id                    0\n",
              "name                  0\n",
              "est_diameter_min      0\n",
              "est_diameter_max      0\n",
              "relative_velocity     0\n",
              "miss_distance         0\n",
              "orbiting_body         0\n",
              "sentry_object         0\n",
              "absolute_magnitude    0\n",
              "hazardous             0\n",
              "dtype: int64"
            ]
          },
          "metadata": {},
          "execution_count": 90
        }
      ]
    },
    {
      "cell_type": "code",
      "source": [
        "data.describe()\n",
        "# used for calculating statistical data like percentile, mean and std of the numerical values of the Series or DataFrame\n",
        "# 25% is the 25 percentile"
      ],
      "metadata": {
        "colab": {
          "base_uri": "https://localhost:8080/",
          "height": 300
        },
        "id": "9ZPlklfvFTFa",
        "outputId": "4613613d-f781-407e-ece2-400bfb4646eb"
      },
      "execution_count": null,
      "outputs": [
        {
          "output_type": "execute_result",
          "data": {
            "text/plain": [
              "                 id  est_diameter_min  est_diameter_max  relative_velocity  \\\n",
              "count  9.083600e+04      90836.000000      90836.000000       90836.000000   \n",
              "mean   1.438288e+07          0.127432          0.284947       48066.918918   \n",
              "std    2.087202e+07          0.298511          0.667491       25293.296961   \n",
              "min    2.000433e+06          0.000609          0.001362         203.346433   \n",
              "25%    3.448110e+06          0.019256          0.043057       28619.020645   \n",
              "50%    3.748362e+06          0.048368          0.108153       44190.117890   \n",
              "75%    3.884023e+06          0.143402          0.320656       62923.604633   \n",
              "max    5.427591e+07         37.892650         84.730541      236990.128088   \n",
              "\n",
              "       miss_distance  absolute_magnitude  \n",
              "count   9.083600e+04        90836.000000  \n",
              "mean    3.706655e+07           23.527103  \n",
              "std     2.235204e+07            2.894086  \n",
              "min     6.745533e+03            9.230000  \n",
              "25%     1.721082e+07           21.340000  \n",
              "50%     3.784658e+07           23.700000  \n",
              "75%     5.654900e+07           25.700000  \n",
              "max     7.479865e+07           33.200000  "
            ],
            "text/html": [
              "\n",
              "  <div id=\"df-0d3022dc-978f-491f-a77c-376b46803a50\">\n",
              "    <div class=\"colab-df-container\">\n",
              "      <div>\n",
              "<style scoped>\n",
              "    .dataframe tbody tr th:only-of-type {\n",
              "        vertical-align: middle;\n",
              "    }\n",
              "\n",
              "    .dataframe tbody tr th {\n",
              "        vertical-align: top;\n",
              "    }\n",
              "\n",
              "    .dataframe thead th {\n",
              "        text-align: right;\n",
              "    }\n",
              "</style>\n",
              "<table border=\"1\" class=\"dataframe\">\n",
              "  <thead>\n",
              "    <tr style=\"text-align: right;\">\n",
              "      <th></th>\n",
              "      <th>id</th>\n",
              "      <th>est_diameter_min</th>\n",
              "      <th>est_diameter_max</th>\n",
              "      <th>relative_velocity</th>\n",
              "      <th>miss_distance</th>\n",
              "      <th>absolute_magnitude</th>\n",
              "    </tr>\n",
              "  </thead>\n",
              "  <tbody>\n",
              "    <tr>\n",
              "      <th>count</th>\n",
              "      <td>9.083600e+04</td>\n",
              "      <td>90836.000000</td>\n",
              "      <td>90836.000000</td>\n",
              "      <td>90836.000000</td>\n",
              "      <td>9.083600e+04</td>\n",
              "      <td>90836.000000</td>\n",
              "    </tr>\n",
              "    <tr>\n",
              "      <th>mean</th>\n",
              "      <td>1.438288e+07</td>\n",
              "      <td>0.127432</td>\n",
              "      <td>0.284947</td>\n",
              "      <td>48066.918918</td>\n",
              "      <td>3.706655e+07</td>\n",
              "      <td>23.527103</td>\n",
              "    </tr>\n",
              "    <tr>\n",
              "      <th>std</th>\n",
              "      <td>2.087202e+07</td>\n",
              "      <td>0.298511</td>\n",
              "      <td>0.667491</td>\n",
              "      <td>25293.296961</td>\n",
              "      <td>2.235204e+07</td>\n",
              "      <td>2.894086</td>\n",
              "    </tr>\n",
              "    <tr>\n",
              "      <th>min</th>\n",
              "      <td>2.000433e+06</td>\n",
              "      <td>0.000609</td>\n",
              "      <td>0.001362</td>\n",
              "      <td>203.346433</td>\n",
              "      <td>6.745533e+03</td>\n",
              "      <td>9.230000</td>\n",
              "    </tr>\n",
              "    <tr>\n",
              "      <th>25%</th>\n",
              "      <td>3.448110e+06</td>\n",
              "      <td>0.019256</td>\n",
              "      <td>0.043057</td>\n",
              "      <td>28619.020645</td>\n",
              "      <td>1.721082e+07</td>\n",
              "      <td>21.340000</td>\n",
              "    </tr>\n",
              "    <tr>\n",
              "      <th>50%</th>\n",
              "      <td>3.748362e+06</td>\n",
              "      <td>0.048368</td>\n",
              "      <td>0.108153</td>\n",
              "      <td>44190.117890</td>\n",
              "      <td>3.784658e+07</td>\n",
              "      <td>23.700000</td>\n",
              "    </tr>\n",
              "    <tr>\n",
              "      <th>75%</th>\n",
              "      <td>3.884023e+06</td>\n",
              "      <td>0.143402</td>\n",
              "      <td>0.320656</td>\n",
              "      <td>62923.604633</td>\n",
              "      <td>5.654900e+07</td>\n",
              "      <td>25.700000</td>\n",
              "    </tr>\n",
              "    <tr>\n",
              "      <th>max</th>\n",
              "      <td>5.427591e+07</td>\n",
              "      <td>37.892650</td>\n",
              "      <td>84.730541</td>\n",
              "      <td>236990.128088</td>\n",
              "      <td>7.479865e+07</td>\n",
              "      <td>33.200000</td>\n",
              "    </tr>\n",
              "  </tbody>\n",
              "</table>\n",
              "</div>\n",
              "      <button class=\"colab-df-convert\" onclick=\"convertToInteractive('df-0d3022dc-978f-491f-a77c-376b46803a50')\"\n",
              "              title=\"Convert this dataframe to an interactive table.\"\n",
              "              style=\"display:none;\">\n",
              "        \n",
              "  <svg xmlns=\"http://www.w3.org/2000/svg\" height=\"24px\"viewBox=\"0 0 24 24\"\n",
              "       width=\"24px\">\n",
              "    <path d=\"M0 0h24v24H0V0z\" fill=\"none\"/>\n",
              "    <path d=\"M18.56 5.44l.94 2.06.94-2.06 2.06-.94-2.06-.94-.94-2.06-.94 2.06-2.06.94zm-11 1L8.5 8.5l.94-2.06 2.06-.94-2.06-.94L8.5 2.5l-.94 2.06-2.06.94zm10 10l.94 2.06.94-2.06 2.06-.94-2.06-.94-.94-2.06-.94 2.06-2.06.94z\"/><path d=\"M17.41 7.96l-1.37-1.37c-.4-.4-.92-.59-1.43-.59-.52 0-1.04.2-1.43.59L10.3 9.45l-7.72 7.72c-.78.78-.78 2.05 0 2.83L4 21.41c.39.39.9.59 1.41.59.51 0 1.02-.2 1.41-.59l7.78-7.78 2.81-2.81c.8-.78.8-2.07 0-2.86zM5.41 20L4 18.59l7.72-7.72 1.47 1.35L5.41 20z\"/>\n",
              "  </svg>\n",
              "      </button>\n",
              "      \n",
              "  <style>\n",
              "    .colab-df-container {\n",
              "      display:flex;\n",
              "      flex-wrap:wrap;\n",
              "      gap: 12px;\n",
              "    }\n",
              "\n",
              "    .colab-df-convert {\n",
              "      background-color: #E8F0FE;\n",
              "      border: none;\n",
              "      border-radius: 50%;\n",
              "      cursor: pointer;\n",
              "      display: none;\n",
              "      fill: #1967D2;\n",
              "      height: 32px;\n",
              "      padding: 0 0 0 0;\n",
              "      width: 32px;\n",
              "    }\n",
              "\n",
              "    .colab-df-convert:hover {\n",
              "      background-color: #E2EBFA;\n",
              "      box-shadow: 0px 1px 2px rgba(60, 64, 67, 0.3), 0px 1px 3px 1px rgba(60, 64, 67, 0.15);\n",
              "      fill: #174EA6;\n",
              "    }\n",
              "\n",
              "    [theme=dark] .colab-df-convert {\n",
              "      background-color: #3B4455;\n",
              "      fill: #D2E3FC;\n",
              "    }\n",
              "\n",
              "    [theme=dark] .colab-df-convert:hover {\n",
              "      background-color: #434B5C;\n",
              "      box-shadow: 0px 1px 3px 1px rgba(0, 0, 0, 0.15);\n",
              "      filter: drop-shadow(0px 1px 2px rgba(0, 0, 0, 0.3));\n",
              "      fill: #FFFFFF;\n",
              "    }\n",
              "  </style>\n",
              "\n",
              "      <script>\n",
              "        const buttonEl =\n",
              "          document.querySelector('#df-0d3022dc-978f-491f-a77c-376b46803a50 button.colab-df-convert');\n",
              "        buttonEl.style.display =\n",
              "          google.colab.kernel.accessAllowed ? 'block' : 'none';\n",
              "\n",
              "        async function convertToInteractive(key) {\n",
              "          const element = document.querySelector('#df-0d3022dc-978f-491f-a77c-376b46803a50');\n",
              "          const dataTable =\n",
              "            await google.colab.kernel.invokeFunction('convertToInteractive',\n",
              "                                                     [key], {});\n",
              "          if (!dataTable) return;\n",
              "\n",
              "          const docLinkHtml = 'Like what you see? Visit the ' +\n",
              "            '<a target=\"_blank\" href=https://colab.research.google.com/notebooks/data_table.ipynb>data table notebook</a>'\n",
              "            + ' to learn more about interactive tables.';\n",
              "          element.innerHTML = '';\n",
              "          dataTable['output_type'] = 'display_data';\n",
              "          await google.colab.output.renderOutput(dataTable, element);\n",
              "          const docLink = document.createElement('div');\n",
              "          docLink.innerHTML = docLinkHtml;\n",
              "          element.appendChild(docLink);\n",
              "        }\n",
              "      </script>\n",
              "    </div>\n",
              "  </div>\n",
              "  "
            ]
          },
          "metadata": {},
          "execution_count": 91
        }
      ]
    },
    {
      "cell_type": "code",
      "source": [
        "# check for duplicates\n",
        "print(f'Duplicates in dataset: {data.duplicated().sum()}, ({np.round(100 * data.duplicated().sum() / len(data), 1)} %)')\n",
        "\n",
        "# formatted string literal or f-string is a string literal that is prefixed with 'f' or 'F'.\n",
        "# These strings may contain replacement fields, which are expressions delimited by curly braces {}. \n",
        "# While other string literals always have a constant value, formatted strings are really expressions evaluated at run time"
      ],
      "metadata": {
        "colab": {
          "base_uri": "https://localhost:8080/"
        },
        "id": "8ozyUeuxXxcc",
        "outputId": "f1f562d2-010d-494e-cb1a-c10cbbca93ce"
      },
      "execution_count": null,
      "outputs": [
        {
          "output_type": "stream",
          "name": "stdout",
          "text": [
            "Duplicates in dataset: 0, (0.0 %)\n"
          ]
        }
      ]
    },
    {
      "cell_type": "code",
      "source": [
        "# splitting into X and y, dropping irrelevant features, column 'hazardous' transformed into int\n",
        "\n",
        "X = data.drop(['id', 'name', 'est_diameter_max', 'orbiting_body', 'sentry_object', 'hazardous'], axis = 1)\n",
        "\n",
        "y = data.hazardous.astype('int')\n",
        "# DataFrame.astype() method is used to cast a pandas object to a specified dtype\n",
        "\n",
        "print(X.shape, y.shape)\n",
        "# shape is a tuple that always gives dimensions of the array"
      ],
      "metadata": {
        "colab": {
          "base_uri": "https://localhost:8080/"
        },
        "id": "7uyAgru_XxOG",
        "outputId": "8ade7870-c6a5-42ea-eed5-3d3d5869ff49"
      },
      "execution_count": null,
      "outputs": [
        {
          "output_type": "stream",
          "name": "stdout",
          "text": [
            "(90836, 4) (90836,)\n"
          ]
        }
      ]
    },
    {
      "cell_type": "code",
      "source": [
        "# training or testing or splitting method\n",
        "X_train, X_test, y_train, y_test = train_test_split(X, y, test_size = 0.2, random_state = 0)"
      ],
      "metadata": {
        "id": "AZmalN4Zeq8J"
      },
      "execution_count": null,
      "outputs": []
    },
    {
      "cell_type": "markdown",
      "source": [
        "\n",
        "\n",
        "---\n",
        "\n",
        "\n",
        "PREDICTION\n",
        "\n",
        "\n",
        "---\n",
        "\n"
      ],
      "metadata": {
        "id": "eBFnDxIBidkf"
      }
    },
    {
      "cell_type": "code",
      "source": [
        "# by K-Nearest Neighbors (KNN)\n",
        "\n",
        "KNN = KNeighborsClassifier(n_neighbors = 3)\n",
        "KNN.fit(X_train, y_train)\n",
        "KNN_pred = KNN.predict(X_test)\n",
        "KNN_acc = round(accuracy_score(KNN_pred, y_test) * 100, 2)\n",
        "print(f'{KNN_acc} %')"
      ],
      "metadata": {
        "id": "pCn5CsI6eqry",
        "colab": {
          "base_uri": "https://localhost:8080/"
        },
        "outputId": "586d7153-3f5d-43f4-f1c7-66219a764d6a"
      },
      "execution_count": null,
      "outputs": [
        {
          "output_type": "stream",
          "name": "stdout",
          "text": [
            "88.06 %\n"
          ]
        }
      ]
    },
    {
      "cell_type": "code",
      "source": [
        "# by Stochastic Gradient Descent (SGD) Classifier\n",
        "\n",
        "SGDC = SGDClassifier()\n",
        "SGDC.fit(X_train, y_train)\n",
        "SGDC_pred = SGDC.predict(X_test)\n",
        "SGDC_acc = round(accuracy_score(SGDC_pred, y_test) * 100, 2)\n",
        "print(f'{SGDC_acc}')"
      ],
      "metadata": {
        "colab": {
          "base_uri": "https://localhost:8080/"
        },
        "id": "cdA7eZxiNFps",
        "outputId": "6e58fa63-474d-46e7-892f-e109f11530d9"
      },
      "execution_count": null,
      "outputs": [
        {
          "output_type": "stream",
          "name": "stdout",
          "text": [
            "87.15\n"
          ]
        }
      ]
    },
    {
      "cell_type": "code",
      "source": [
        "# by Gaussian Naive Bayes\n",
        "\n",
        "GNB = GaussianNB()\n",
        "GNB.fit(X_train, y_train)\n",
        "GNB_pred = GNB.predict(X_test)\n",
        "GNB_acc = round(accuracy_score(GNB_pred, y_test) * 100, 2)\n",
        "print(f'{GNB_acc} %')"
      ],
      "metadata": {
        "colab": {
          "base_uri": "https://localhost:8080/"
        },
        "id": "RBKDzyHXlCcq",
        "outputId": "2d09f07a-afcf-4d09-dc10-f562d859242e"
      },
      "execution_count": null,
      "outputs": [
        {
          "output_type": "stream",
          "name": "stdout",
          "text": [
            "89.57 %\n"
          ]
        }
      ]
    },
    {
      "cell_type": "code",
      "source": [
        "# by Decision Tree Classifier\n",
        "\n",
        "DTC = DecisionTreeClassifier()\n",
        "DTC.fit(X_train, y_train)\n",
        "DTC_pred = DTC.predict(X_test)\n",
        "DTC_acc = round(accuracy_score(DTC_pred, y_test) * 100, 2)\n",
        "print(f'{DTC_acc} %')"
      ],
      "metadata": {
        "colab": {
          "base_uri": "https://localhost:8080/"
        },
        "id": "UahE_k3eNpsE",
        "outputId": "3aee8d6e-faf1-475a-bf00-fec5848939d9"
      },
      "execution_count": null,
      "outputs": [
        {
          "output_type": "stream",
          "name": "stdout",
          "text": [
            "89.27 %\n"
          ]
        }
      ]
    },
    {
      "cell_type": "code",
      "source": [
        "# by Random Forest\n",
        "\n",
        "RF = RandomForestClassifier()\n",
        "RF.fit(X_train, y_train)\n",
        "RF_pred = RF.predict(X_test)\n",
        "RF_acc = round(accuracy_score(RF_pred, y_test) * 100, 2)\n",
        "print(f'{RF_acc} %')"
      ],
      "metadata": {
        "colab": {
          "base_uri": "https://localhost:8080/"
        },
        "id": "npihyUU8lCYb",
        "outputId": "0010631c-df90-45bf-caf3-35396c9331d1"
      },
      "execution_count": null,
      "outputs": [
        {
          "output_type": "stream",
          "name": "stdout",
          "text": [
            "91.69 %\n"
          ]
        }
      ]
    },
    {
      "cell_type": "code",
      "source": [
        "# by eXtreme Gradient Boosting (XGBoost)\n",
        "\n",
        "XGBC = XGBClassifier()\n",
        "XGBC.fit(X_train, y_train)\n",
        "XGBC_pred = XGBC.predict(X_test)\n",
        "XGBC_acc = round(accuracy_score(XGBC_pred, y_test) * 100, 2)\n",
        "print(f'{XGBC_acc} %')"
      ],
      "metadata": {
        "id": "Jj2UiAQrlCKE",
        "colab": {
          "base_uri": "https://localhost:8080/"
        },
        "outputId": "ccc00863-6aac-49c1-bcf4-e5549d3a333b"
      },
      "execution_count": null,
      "outputs": [
        {
          "output_type": "stream",
          "name": "stdout",
          "text": [
            "91.23 %\n"
          ]
        }
      ]
    },
    {
      "cell_type": "code",
      "source": [
        "# displaying accuracy score of all models\n",
        "\n",
        "model_table = pd.DataFrame({\n",
        "    'Model' : ['K Neighbors Classifier', 'SGD Classifier', 'Gaussian Naive Bayes', \n",
        "                                       'Decision Tree Classifier', 'Random Forest', 'XG Boost'], \n",
        "    'Score' : [KNN_acc, SGDC_acc, GNB_acc, \n",
        "                                        DTC_acc, RF_acc, XGBC_acc]})\n",
        "model_table.sort_values(by = 'Score', ascending = False)"
      ],
      "metadata": {
        "colab": {
          "base_uri": "https://localhost:8080/",
          "height": 238
        },
        "id": "ZseOCNRfXkin",
        "outputId": "71b5d5ae-1c26-4419-c7d4-4c3f4456728d"
      },
      "execution_count": null,
      "outputs": [
        {
          "output_type": "execute_result",
          "data": {
            "text/plain": [
              "                      Model  Score\n",
              "4             Random Forest  91.69\n",
              "5                  XG Boost  91.23\n",
              "2      Gaussian Naive Bayes  89.57\n",
              "3  Decision Tree Classifier  89.27\n",
              "0    K Neighbors Classifier  88.06\n",
              "1            SGD Classifier  87.15"
            ],
            "text/html": [
              "\n",
              "  <div id=\"df-9d21d599-f8a1-402d-913b-d13b9fd5c029\">\n",
              "    <div class=\"colab-df-container\">\n",
              "      <div>\n",
              "<style scoped>\n",
              "    .dataframe tbody tr th:only-of-type {\n",
              "        vertical-align: middle;\n",
              "    }\n",
              "\n",
              "    .dataframe tbody tr th {\n",
              "        vertical-align: top;\n",
              "    }\n",
              "\n",
              "    .dataframe thead th {\n",
              "        text-align: right;\n",
              "    }\n",
              "</style>\n",
              "<table border=\"1\" class=\"dataframe\">\n",
              "  <thead>\n",
              "    <tr style=\"text-align: right;\">\n",
              "      <th></th>\n",
              "      <th>Model</th>\n",
              "      <th>Score</th>\n",
              "    </tr>\n",
              "  </thead>\n",
              "  <tbody>\n",
              "    <tr>\n",
              "      <th>4</th>\n",
              "      <td>Random Forest</td>\n",
              "      <td>91.69</td>\n",
              "    </tr>\n",
              "    <tr>\n",
              "      <th>5</th>\n",
              "      <td>XG Boost</td>\n",
              "      <td>91.23</td>\n",
              "    </tr>\n",
              "    <tr>\n",
              "      <th>2</th>\n",
              "      <td>Gaussian Naive Bayes</td>\n",
              "      <td>89.57</td>\n",
              "    </tr>\n",
              "    <tr>\n",
              "      <th>3</th>\n",
              "      <td>Decision Tree Classifier</td>\n",
              "      <td>89.27</td>\n",
              "    </tr>\n",
              "    <tr>\n",
              "      <th>0</th>\n",
              "      <td>K Neighbors Classifier</td>\n",
              "      <td>88.06</td>\n",
              "    </tr>\n",
              "    <tr>\n",
              "      <th>1</th>\n",
              "      <td>SGD Classifier</td>\n",
              "      <td>87.15</td>\n",
              "    </tr>\n",
              "  </tbody>\n",
              "</table>\n",
              "</div>\n",
              "      <button class=\"colab-df-convert\" onclick=\"convertToInteractive('df-9d21d599-f8a1-402d-913b-d13b9fd5c029')\"\n",
              "              title=\"Convert this dataframe to an interactive table.\"\n",
              "              style=\"display:none;\">\n",
              "        \n",
              "  <svg xmlns=\"http://www.w3.org/2000/svg\" height=\"24px\"viewBox=\"0 0 24 24\"\n",
              "       width=\"24px\">\n",
              "    <path d=\"M0 0h24v24H0V0z\" fill=\"none\"/>\n",
              "    <path d=\"M18.56 5.44l.94 2.06.94-2.06 2.06-.94-2.06-.94-.94-2.06-.94 2.06-2.06.94zm-11 1L8.5 8.5l.94-2.06 2.06-.94-2.06-.94L8.5 2.5l-.94 2.06-2.06.94zm10 10l.94 2.06.94-2.06 2.06-.94-2.06-.94-.94-2.06-.94 2.06-2.06.94z\"/><path d=\"M17.41 7.96l-1.37-1.37c-.4-.4-.92-.59-1.43-.59-.52 0-1.04.2-1.43.59L10.3 9.45l-7.72 7.72c-.78.78-.78 2.05 0 2.83L4 21.41c.39.39.9.59 1.41.59.51 0 1.02-.2 1.41-.59l7.78-7.78 2.81-2.81c.8-.78.8-2.07 0-2.86zM5.41 20L4 18.59l7.72-7.72 1.47 1.35L5.41 20z\"/>\n",
              "  </svg>\n",
              "      </button>\n",
              "      \n",
              "  <style>\n",
              "    .colab-df-container {\n",
              "      display:flex;\n",
              "      flex-wrap:wrap;\n",
              "      gap: 12px;\n",
              "    }\n",
              "\n",
              "    .colab-df-convert {\n",
              "      background-color: #E8F0FE;\n",
              "      border: none;\n",
              "      border-radius: 50%;\n",
              "      cursor: pointer;\n",
              "      display: none;\n",
              "      fill: #1967D2;\n",
              "      height: 32px;\n",
              "      padding: 0 0 0 0;\n",
              "      width: 32px;\n",
              "    }\n",
              "\n",
              "    .colab-df-convert:hover {\n",
              "      background-color: #E2EBFA;\n",
              "      box-shadow: 0px 1px 2px rgba(60, 64, 67, 0.3), 0px 1px 3px 1px rgba(60, 64, 67, 0.15);\n",
              "      fill: #174EA6;\n",
              "    }\n",
              "\n",
              "    [theme=dark] .colab-df-convert {\n",
              "      background-color: #3B4455;\n",
              "      fill: #D2E3FC;\n",
              "    }\n",
              "\n",
              "    [theme=dark] .colab-df-convert:hover {\n",
              "      background-color: #434B5C;\n",
              "      box-shadow: 0px 1px 3px 1px rgba(0, 0, 0, 0.15);\n",
              "      filter: drop-shadow(0px 1px 2px rgba(0, 0, 0, 0.3));\n",
              "      fill: #FFFFFF;\n",
              "    }\n",
              "  </style>\n",
              "\n",
              "      <script>\n",
              "        const buttonEl =\n",
              "          document.querySelector('#df-9d21d599-f8a1-402d-913b-d13b9fd5c029 button.colab-df-convert');\n",
              "        buttonEl.style.display =\n",
              "          google.colab.kernel.accessAllowed ? 'block' : 'none';\n",
              "\n",
              "        async function convertToInteractive(key) {\n",
              "          const element = document.querySelector('#df-9d21d599-f8a1-402d-913b-d13b9fd5c029');\n",
              "          const dataTable =\n",
              "            await google.colab.kernel.invokeFunction('convertToInteractive',\n",
              "                                                     [key], {});\n",
              "          if (!dataTable) return;\n",
              "\n",
              "          const docLinkHtml = 'Like what you see? Visit the ' +\n",
              "            '<a target=\"_blank\" href=https://colab.research.google.com/notebooks/data_table.ipynb>data table notebook</a>'\n",
              "            + ' to learn more about interactive tables.';\n",
              "          element.innerHTML = '';\n",
              "          dataTable['output_type'] = 'display_data';\n",
              "          await google.colab.output.renderOutput(dataTable, element);\n",
              "          const docLink = document.createElement('div');\n",
              "          docLink.innerHTML = docLinkHtml;\n",
              "          element.appendChild(docLink);\n",
              "        }\n",
              "      </script>\n",
              "    </div>\n",
              "  </div>\n",
              "  "
            ]
          },
          "metadata": {},
          "execution_count": 101
        }
      ]
    },
    {
      "cell_type": "markdown",
      "source": [
        "\n",
        "\n",
        "\n",
        "\n",
        "\n",
        "**By Neural Network**\n",
        "\n",
        "\n",
        "\n",
        "\n"
      ],
      "metadata": {
        "id": "jcgnNo0WfcQU"
      }
    },
    {
      "cell_type": "code",
      "source": [
        "classifier = Sequential()\n",
        "classifier.add(Dense(12, input_dim = 4, activation = 'relu'))\n",
        "\n",
        "# units = dimensionality of output space\n",
        "\n",
        "classifier.add(Dense(8, activation = 'relu'))\n",
        "classifier.add(Dense(1, activation = 'sigmoid'))\n",
        "classifier.compile(loss = 'binary_crossentropy', optimizer = 'adam', metrics = ['accuracy'])\n",
        "\n",
        "# compile = to decide a model architecture, this is the number of hidden layers and activation functions, etc.\n",
        "# loss function = computes the distance between the current output of the algorithm and the expected output\n",
        "# binary_crossentropy = computes the cross-entropy loss between true labels and predicted labels. This class comes under probabilistic losses\n",
        "# metrics = list of metrics to be evaluated by the model during training and testing\n",
        "\n",
        "classifier.summary()"
      ],
      "metadata": {
        "id": "7rHnNzQKXkc5",
        "colab": {
          "base_uri": "https://localhost:8080/"
        },
        "outputId": "d32d0d1e-8a5b-4317-d83d-00209fcb60a5"
      },
      "execution_count": null,
      "outputs": [
        {
          "output_type": "stream",
          "name": "stdout",
          "text": [
            "Model: \"sequential_3\"\n",
            "_________________________________________________________________\n",
            " Layer (type)                Output Shape              Param #   \n",
            "=================================================================\n",
            " dense_9 (Dense)             (None, 12)                60        \n",
            "                                                                 \n",
            " dense_10 (Dense)            (None, 8)                 104       \n",
            "                                                                 \n",
            " dense_11 (Dense)            (None, 1)                 9         \n",
            "                                                                 \n",
            "=================================================================\n",
            "Total params: 173\n",
            "Trainable params: 173\n",
            "Non-trainable params: 0\n",
            "_________________________________________________________________\n"
          ]
        }
      ]
    },
    {
      "cell_type": "markdown",
      "source": [
        "\n",
        "\n",
        "---\n",
        "\n",
        "\n",
        "Compiling the model - This will create a Python object which will build the CNN. This is done by building the computation graph in the correct format based on the Keras backend you are using (here, tensorflow). The compilation steps asks you to define the loss function and kind of optimizer you want to use. These options depend on the problem you are trying to solve, you can find the best techniques usually reading the literature in the field.\n",
        "\n",
        "\n",
        "---\n",
        "\n",
        "\n",
        "// Read the whole \"prediction\" bookmark in ML Project NASA folder\n",
        "\n",
        "\n",
        "---\n",
        "\n",
        "\n"
      ],
      "metadata": {
        "id": "upcyoW-DXaQI"
      }
    },
    {
      "cell_type": "code",
      "source": [
        "# fitting the model\n",
        "\n",
        "history = classifier.fit(X_train, y_train, batch_size = 18, epochs = 10, validation_split = 0.1, verbose = 1, shuffle = True)\n",
        "\n",
        "# see train keras model bookmark\n",
        "# By setting verbose 0, 1 or 2 you just say how do you want to 'see' the training progress for each epoch\n",
        "# shuffle = whether to shuffle the training data before each epoch) or str (for 'batch')\n",
        "\n",
        "# accuracy prediction\n",
        "\n",
        "_, accuracy = classifier.evaluate(X_test, y_test)\n",
        "# if you don't need the specific values or the values are not used, assign the values to underscore (here, we don't need loss values)\n",
        "print('Accuracy from Neural Network: %.2f' % (accuracy * 100))"
      ],
      "metadata": {
        "id": "M75gSNw1XkOd",
        "colab": {
          "base_uri": "https://localhost:8080/"
        },
        "outputId": "b8d641ef-4530-475b-f4d9-0a8bccb34b0c"
      },
      "execution_count": null,
      "outputs": [
        {
          "output_type": "stream",
          "name": "stdout",
          "text": [
            "Epoch 1/10\n",
            "3634/3634 [==============================] - 9s 2ms/step - loss: 4552.4731 - accuracy: 0.8096 - val_loss: 592.6933 - val_accuracy: 0.8444\n",
            "Epoch 2/10\n",
            "3634/3634 [==============================] - 9s 2ms/step - loss: 3459.2202 - accuracy: 0.8029 - val_loss: 6664.0200 - val_accuracy: 0.9088\n",
            "Epoch 3/10\n",
            "3634/3634 [==============================] - 10s 3ms/step - loss: 3202.0906 - accuracy: 0.8092 - val_loss: 2866.5591 - val_accuracy: 0.1124\n",
            "Epoch 4/10\n",
            "3634/3634 [==============================] - 10s 3ms/step - loss: 2724.0054 - accuracy: 0.8058 - val_loss: 563.8158 - val_accuracy: 0.9088\n",
            "Epoch 5/10\n",
            "3634/3634 [==============================] - 10s 3ms/step - loss: 2422.0815 - accuracy: 0.8065 - val_loss: 569.9579 - val_accuracy: 0.8464\n",
            "Epoch 6/10\n",
            "3634/3634 [==============================] - 10s 3ms/step - loss: 2334.3496 - accuracy: 0.8070 - val_loss: 530.9653 - val_accuracy: 0.8577\n",
            "Epoch 7/10\n",
            "3634/3634 [==============================] - 10s 3ms/step - loss: 2388.0706 - accuracy: 0.8054 - val_loss: 1769.2518 - val_accuracy: 0.1309\n",
            "Epoch 8/10\n",
            "3634/3634 [==============================] - 9s 3ms/step - loss: 2060.1470 - accuracy: 0.8084 - val_loss: 185.2050 - val_accuracy: 0.7720\n",
            "Epoch 9/10\n",
            "3634/3634 [==============================] - 8s 2ms/step - loss: 1689.5271 - accuracy: 0.8082 - val_loss: 469.4249 - val_accuracy: 0.9088\n",
            "Epoch 10/10\n",
            "3634/3634 [==============================] - 8s 2ms/step - loss: 1429.4408 - accuracy: 0.8070 - val_loss: 1313.4530 - val_accuracy: 0.1177\n",
            "568/568 [==============================] - 1s 2ms/step - loss: 1290.5264 - accuracy: 0.1231\n",
            "Accuracy from Neural Network: 12.31\n"
          ]
        }
      ]
    },
    {
      "cell_type": "markdown",
      "source": [
        "\n",
        "\n",
        "---\n",
        "\n",
        "\n",
        "Epoch: an arbitrary cutoff, defined as \"one pass over the entire dataset\", used to separate training into distinct phases, which is useful for logging and periodic evaluation.\n",
        "\n",
        "So, a number of epochs means how many times you go through your training set.\n",
        "\n",
        "The model is updated each time a batch is processed, which means that it can be updated multiple times during one epoch. If batch_size is set equal to the length of x, then the model will be updated once per epoch.\n",
        "\n",
        "\n",
        "---\n",
        "\n"
      ],
      "metadata": {
        "id": "5VaXVzp82e7m"
      }
    },
    {
      "cell_type": "markdown",
      "source": [
        "\n",
        "\n",
        "---\n",
        "\n",
        "\n",
        "We saw that prediction accuracy by *Random Forest Classifier* is the highest. Hence, to find that which nearest object to Earth is hazardous to us, we should try to use this classification model.\n",
        "\n",
        "Also, it is quite interesting that all the models have approximately similar accuracy (~90%).\n",
        "\n",
        "\n",
        "---\n",
        "\n"
      ],
      "metadata": {
        "id": "nETq6OKotn14"
      }
    }
  ]
}